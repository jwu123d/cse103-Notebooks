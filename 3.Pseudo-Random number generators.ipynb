{
 "cells": [
  {
   "cell_type": "code",
   "execution_count": 1,
   "id": "c4ff4d97",
   "metadata": {
    "scrolled": false
   },
   "outputs": [
    {
     "name": "stdout",
     "output_type": "stream",
     "text": [
      "Populating the interactive namespace from numpy and matplotlib\n"
     ]
    }
   ],
   "source": [
    "%pylab inline\n",
    "import random"
   ]
  },
  {
   "cell_type": "markdown",
   "id": "2e86f546",
   "metadata": {},
   "source": [
    "## Random Number generator\n",
    "A pseudo-random number generator is an object that outputs a value each time it is called.\n",
    "\n",
    "A random number geenrator has a **state**:\n",
    "* The state is initialized from a `seed`\n",
    "* Each time the random number generator is called \n",
    "   * The state is updated\n",
    "   * A pseudo-random number is generated from the seed.\n",
    "   \n",
    "The output value is a function of the seed.\n"
   ]
  },
  {
   "cell_type": "code",
   "execution_count": 2,
   "id": "0fe27b8d",
   "metadata": {},
   "outputs": [
    {
     "name": "stdout",
     "output_type": "stream",
     "text": [
      "1, 0, 0, 1, 1, 0, 1, 0, "
     ]
    }
   ],
   "source": [
    "random.seed(25)\n",
    "print(random.randrange(2),end=\", \")  # 1st bit\n",
    "print(random.randrange(2),end=\", \")\n",
    "print(random.randrange(2),end=\", \")\n",
    "print(random.randrange(2),end=\", \")  # 4th bit\n",
    "state=random.getstate()  #save internal state\n",
    "print(random.randrange(2),end=\", \")  # 5th bit\n",
    "print(random.randrange(2),end=\", \")\n",
    "print(random.randrange(2),end=\", \")\n",
    "print(random.randrange(2),end=\", \")  # 8th bit"
   ]
  },
  {
   "cell_type": "code",
   "execution_count": 3,
   "id": "c476ad8d",
   "metadata": {},
   "outputs": [
    {
     "name": "stdout",
     "output_type": "stream",
     "text": [
      "1, 0, 1, 0, "
     ]
    }
   ],
   "source": [
    "random.setstate(state) # set internal state\n",
    "print(random.randrange(2),end=\", \")   #5th bit\n",
    "print(random.randrange(2),end=\", \")   \n",
    "print(random.randrange(2),end=\", \")\n",
    "print(random.randrange(2),end=\", \")   #8th bit"
   ]
  },
  {
   "cell_type": "markdown",
   "id": "4dcdb3c0",
   "metadata": {},
   "source": [
    "The binary sequence is determined by the seed or the state.\n",
    "\n",
    "There are two ways of setting the seed:\n",
    "* `seed(i)` : sets the initial state according to the seed `i`.\n",
    "Always generated the same sequence. Useful when you want to reproduce a bug.\n",
    "* `seed()` : Uses the system time as the seed. Useful in production, when you want different randomization at each run. Generates a different random sequence each time. Useful when you want each run to be different."
   ]
  },
  {
   "cell_type": "markdown",
   "id": "0225e923",
   "metadata": {},
   "source": [
    "## Why \"pseudo-random\" ?\n",
    "\n",
    "The sequence generated is determined by the seed.\n",
    "\n",
    "Why do we say that the generated sequence is **PseudoRandom**?\n",
    "\n",
    "Because it looks random to most statistical tests.\n",
    "\n",
    "Suppose we have a Generate a sequence of n bit. Each bit is independent and each element is +1 or -1 with probabilities 1/2,1/2\n",
    "\n",
    "We will then try some tests"
   ]
  },
  {
   "cell_type": "code",
   "execution_count": 4,
   "id": "54d66b16",
   "metadata": {
    "scrolled": true
   },
   "outputs": [],
   "source": [
    "def generate(n=10):\n",
    "    seq=[(random.random()>0.5)*2-1 for i in range(n)]\n",
    "    return array(seq)"
   ]
  },
  {
   "cell_type": "code",
   "execution_count": 5,
   "id": "cba2e8e1",
   "metadata": {},
   "outputs": [
    {
     "data": {
      "text/plain": [
       "array([-1,  1, -1,  1,  1, -1,  1, -1,  1,  1])"
      ]
     },
     "execution_count": 5,
     "metadata": {},
     "output_type": "execute_result"
    }
   ],
   "source": [
    "random.seed()\n",
    "n=100000\n",
    "R=generate(n)\n",
    "R[:10]"
   ]
  },
  {
   "cell_type": "markdown",
   "id": "02d83e11",
   "metadata": {},
   "source": [
    "### Pseudo Random number generators pass most tests\n",
    " * An ideal random number generator will provide the same distribution of outcomes as a true random generator for every test.\n",
    "### Test 1\n",
    "The mean of the sequence should be very close to 0."
   ]
  },
  {
   "cell_type": "code",
   "execution_count": 6,
   "id": "251d28a6",
   "metadata": {
    "scrolled": true
   },
   "outputs": [
    {
     "data": {
      "text/plain": [
       "-0.00652"
      ]
     },
     "execution_count": 6,
     "metadata": {},
     "output_type": "execute_result"
    }
   ],
   "source": [
    "mean(R)"
   ]
  },
  {
   "cell_type": "markdown",
   "id": "e592b3f7",
   "metadata": {},
   "source": [
    "### Test 2\n",
    "The difference between the mean of the first half and the mean of the second half should be close to zero."
   ]
  },
  {
   "cell_type": "code",
   "execution_count": 7,
   "id": "8c168147",
   "metadata": {},
   "outputs": [
    {
     "data": {
      "text/plain": [
       "0.0056"
      ]
     },
     "execution_count": 7,
     "metadata": {},
     "output_type": "execute_result"
    }
   ],
   "source": [
    "n2=int(n/2)\n",
    "mean(R[:n2])-mean(R[n2:])"
   ]
  },
  {
   "cell_type": "markdown",
   "id": "e2b50b24",
   "metadata": {},
   "source": [
    "## Test 3 \n",
    "In fact, the dot product of `R` with any other binary vector would be close to zero."
   ]
  },
  {
   "cell_type": "code",
   "execution_count": 8,
   "id": "96f84211",
   "metadata": {},
   "outputs": [
    {
     "name": "stdout",
     "output_type": "stream",
     "text": [
      "0.00154, 0.00184, 0.00636, 0.00134, 0.00462, -0.00342, 6e-05, -0.0022, \n",
      "-0.00254, 0.00068, -0.00646, -0.00342, 0.00418, -0.00106, 0.00364, -0.00382, \n",
      "-0.00368, -0.00412, -0.0026, -0.0011, -0.00088, -0.00016, 0.0009, 0.00076, \n",
      "-0.00218, 0.00102, -0.00164, -0.0001, -0.00342, 0.00232, 0.0001, 0.004, \n",
      "-0.0036, 0.00198, -0.00438, 0.0004, -0.0019, 0.00748, -0.00204, -0.0086, \n",
      "0.0007, -0.00092, 0.00252, -0.0003, -0.00198, 0.00466, -0.00116, 0.0043, \n",
      "0.0012, -0.00316, 0.0014, -0.00318, -0.0046, -0.00202, -0.00072, -0.00258, \n",
      "-0.00244, 0.00466, 0.00358, -0.00406, -0.00538, 0.0041, 0.00146, -0.0018, \n",
      "0.00396, -0.00208, 0.00264, 0.00204, 0.00232, 0.00444, 0.00042, 0.00162, \n",
      "0.00116, 0.00026, -0.00048, 0.00188, 0.00674, 0.00212, 0.00086, -0.00104, \n",
      "0.00062, -0.00384, 0.00618, -0.00186, 0.00284, -0.00052, 0.00146, 0.00158, \n",
      "-0.00036, -0.00132, 0.00106, -0.00212, -0.00194, -0.00102, 0.0009, -0.00286, \n",
      "0.00074, -0.00464, -0.00346, 0.00032, "
     ]
    }
   ],
   "source": [
    "for i in range(100):\n",
    "    S=generate(n)\n",
    "    print(dot(R,S)/n,end=', ')\n",
    "    if i%8==7:\n",
    "        print()"
   ]
  },
  {
   "cell_type": "markdown",
   "id": "e1910b6a",
   "metadata": {},
   "source": [
    "### It is impossible to construct a PRNG that passes all tests\n",
    "* If the tester with unlimited computational power, it can run a separate test for each possible seed and identify the seed that conforms with the sequence.\n",
    "* suppose the seed is int32, then there are $2^{32} = 4,294,967,296 \\approx 4Billion$ possible seeds\n",
    "* generate a sequence for each seed. Length of sequence = 100.\n",
    "* The fraction of generated seed from posssible seeds: \n",
    "$$\\frac{2^{32}}{2^{100}} = \\frac{1}{2^{68}}$$\n",
    "An extremely tiny fraction."
   ]
  },
  {
   "cell_type": "markdown",
   "id": "09e8aae8",
   "metadata": {},
   "source": [
    "### In practice, `python.random` is good enough\n",
    "* But not always, for cryptographic/Key-Chain applications, the recommendation is to use the stronger `secrets` module.\n",
    "* Or a [hardware random number generator](https://en.wikipedia.org/wiki/Hardware_random_number_generator) "
   ]
  },
  {
   "cell_type": "markdown",
   "id": "1faacc29",
   "metadata": {},
   "source": [
    "### Hash Function\n",
    "* A **random mapping** is a function $R:\\{1,\\ldots,n\\} \\to \\{1,\\ldots,m\\}$ such that for \n",
    "each $1 \\leq i \\leq n$ the value $R(i)$ is distributed uniformly over $\\{1,\\ldots,m\\}$\n",
    "* A **Hash function family** $H_j$ is a collection of functions $H_j:\\{1,\\ldots,n\\} \\to \\{1,\\ldots,m\\}$ such that if $j$ is chosen at random then $H_j(i)$ is indistinguishable from a random mapping. (Assuming the adversary has restricted rsources)."
   ]
  },
  {
   "cell_type": "code",
   "execution_count": 9,
   "id": "d7f2565e",
   "metadata": {},
   "outputs": [],
   "source": [
    "def Hash(i,j,_range=100):\n",
    "    \"\"\" \n",
    "    Compute a hash function\n",
    "    i = index of hash function\n",
    "    j = values to be mapped\n",
    "    _range = the range of the output is [0,_range]\n",
    "    \"\"\"\n",
    "    seed=int(str(i)+'0'+str(j))\n",
    "    print('seed=',seed)\n",
    "    random.seed(seed)\n",
    "    return(random.randrange(_range))\n"
   ]
  },
  {
   "cell_type": "code",
   "execution_count": 10,
   "id": "37a28fcf",
   "metadata": {},
   "outputs": [
    {
     "data": {
      "text/plain": [
       "61"
      ]
     },
     "execution_count": 10,
     "metadata": {},
     "output_type": "execute_result"
    }
   ],
   "source": [
    "Hash(5,7)"
   ]
  },
  {
   "cell_type": "markdown",
   "id": "017d0d09",
   "metadata": {},
   "source": [
    "### Hashing [0,10] -> [0,10]\n",
    "Note that this is **not** a permutation.\n",
    "\n",
    "Repeated values are possible"
   ]
  },
  {
   "cell_type": "code",
   "execution_count": 11,
   "id": "30f69981",
   "metadata": {},
   "outputs": [
    {
     "name": "stdout",
     "output_type": "stream",
     "text": [
      "9, 6, 8, 0, 2, 2, 6, 8, 2, 1, "
     ]
    }
   ],
   "source": [
    "i=3\n",
    "Range=10\n",
    "for j in range(Range):\n",
    "    print(Hash(i,j,_range=Range),end=', ')"
   ]
  },
  {
   "cell_type": "markdown",
   "id": "cabbf2a5",
   "metadata": {},
   "source": [
    "###  Hash functions are very useful\n",
    "For implementing maps (dictionaries), comparing documents ...\n",
    "\n",
    "In future class."
   ]
  },
  {
   "cell_type": "code",
   "execution_count": null,
   "id": "28e72e76",
   "metadata": {},
   "outputs": [],
   "source": []
  }
 ],
 "metadata": {
  "kernelspec": {
   "display_name": "Python 3 (ipykernel)",
   "language": "python",
   "name": "python3"
  },
  "language_info": {
   "codemirror_mode": {
    "name": "ipython",
    "version": 3
   },
   "file_extension": ".py",
   "mimetype": "text/x-python",
   "name": "python",
   "nbconvert_exporter": "python",
   "pygments_lexer": "ipython3",
   "version": "3.9.6"
  }
 },
 "nbformat": 4,
 "nbformat_minor": 5
}
