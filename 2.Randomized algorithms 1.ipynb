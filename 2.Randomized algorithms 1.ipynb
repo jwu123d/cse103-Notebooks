{
 "cells": [
  {
   "cell_type": "markdown",
   "id": "df753db2",
   "metadata": {},
   "source": [
    "### Finding Percentiles\n",
    "\n",
    "We are given an array of $n$ numbers and we want to find the $p$th percential ($0\\leq p \\leq 1$).\n",
    "\n",
    "The most direct way is to sort the array and then read the element at location `int(np)`\n",
    "\n",
    "However sorting requires time $O(n \\log n)$ in the worst case. We would like to do better.\n",
    "\n",
    "Here we show a randomized algorithm whose expected running time, for any sequence, is $O(n)$"
   ]
  },
  {
   "cell_type": "code",
   "execution_count": 1,
   "id": "168db11f",
   "metadata": {},
   "outputs": [
    {
     "name": "stdout",
     "output_type": "stream",
     "text": [
      "Populating the interactive namespace from numpy and matplotlib\n"
     ]
    }
   ],
   "source": [
    "%pylab inline"
   ]
  },
  {
   "cell_type": "code",
   "execution_count": 2,
   "id": "ed183861",
   "metadata": {},
   "outputs": [],
   "source": [
    "def percentile(a,i,debug=False):\n",
    "    l=a.shape[0] \n",
    "    global _sum\n",
    "    _sum+=l\n",
    "    if debug:\n",
    "        print('length=',l, end=', ')\n",
    "    if l==1:\n",
    "        return a[0]\n",
    "    r=randint(l)\n",
    "    pivot=a[r]\n",
    "    smaller=a[a<pivot]\n",
    "    equal=a[a==pivot]\n",
    "    larger=a[a>pivot]\n",
    "    if debug:\n",
    "        print('index=',i,'pivot=',pivot,'smaller=',smaller.shape[0],\\\n",
    "              'equal=',equal.shape[0],'larger=',larger.shape[0],end=' ')\n",
    "\n",
    "    if len(smaller)>i:\n",
    "        if debug:\n",
    "            print('choose smaller')\n",
    "        return percentile(smaller,i,debug=debug)\n",
    "    elif len(smaller)+len(equal)>i:\n",
    "        if debug:\n",
    "            print('choose equal')\n",
    "        return equal[0]\n",
    "    else:\n",
    "        if debug:\n",
    "            print('choose larger')\n",
    "        return percentile(larger,i-len(smaller)-len(equal),debug=debug)"
   ]
  },
  {
   "cell_type": "code",
   "execution_count": 21,
   "id": "4d58c173",
   "metadata": {},
   "outputs": [
    {
     "data": {
      "text/plain": [
       "array([12,  2, 16,  5, 17, 16, 28, 49,  0, 31, 29, 37,  9, 45,  9, 38, 30,\n",
       "       31, 17, 33, 14,  9,  4, 13, 32, 29,  7, 14,  1, 17,  7, 34,  4, 48,\n",
       "        7, 13, 24, 26, 41, 41, 37, 10, 44, 43, 36,  7, 47, 33, 16,  9, 29,\n",
       "       11, 39, 28, 24, 30, 13, 47,  0, 33, 27, 20, 17, 23, 10, 23, 34, 32,\n",
       "       26, 33, 28, 17, 11, 25, 13, 30, 17, 12, 19, 13, 14, 16, 20,  8, 11,\n",
       "       26, 30, 21, 45, 36, 11, 17, 16, 11, 12,  1,  6, 10,  1,  6])"
      ]
     },
     "execution_count": 21,
     "metadata": {},
     "output_type": "execute_result"
    }
   ],
   "source": [
    "n=100   #size of array\n",
    "a=randint(int(n/2),size=n) # generte a random arra\n",
    "a"
   ]
  },
  {
   "cell_type": "code",
   "execution_count": 36,
   "id": "4236b035",
   "metadata": {},
   "outputs": [
    {
     "name": "stdout",
     "output_type": "stream",
     "text": [
      "answer= 8\n"
     ]
    }
   ],
   "source": [
    "p=0.15   # Define the percentile\n",
    "i=int(p*n)\n",
    "\n",
    "b=sort(a) # find the percentile by sorting\n",
    "print('answer=',b[i])"
   ]
  },
  {
   "cell_type": "code",
   "execution_count": 44,
   "id": "7881305f",
   "metadata": {},
   "outputs": [
    {
     "name": "stdout",
     "output_type": "stream",
     "text": [
      "length= 100, index= 15 pivot= 10 smaller= 20 equal= 3 larger= 77 choose smaller\n",
      "length= 20, index= 15 pivot= 1 smaller= 2 equal= 3 larger= 15 choose larger\n",
      "length= 15, index= 10 pivot= 9 smaller= 11 equal= 4 larger= 0 choose smaller\n",
      "length= 11, index= 10 pivot= 4 smaller= 1 equal= 2 larger= 8 choose larger\n",
      "length= 8, index= 7 pivot= 6 smaller= 1 equal= 2 larger= 5 choose larger\n",
      "length= 5, index= 4 pivot= 8 smaller= 4 equal= 1 larger= 0 choose equal\n",
      "answer= 8 total steps= 159 bound on expectation= 800\n"
     ]
    }
   ],
   "source": [
    "# Find the percentile using our randomized algorithm\n",
    "global _sum  # variable for computing total run time - sum of lengths\n",
    "_sum=0\n",
    "P=percentile(a,i,debug=True)\n",
    "print('answer=',P,'total steps=',_sum, 'bound on expectation=',8*n)"
   ]
  },
  {
   "cell_type": "markdown",
   "id": "5a186b18",
   "metadata": {},
   "source": [
    "### Note\n",
    "The length of  the array shrinks rapidly. The actual amount varies randomly, but the number of iterations is about $(\\log n)$ where $n$ is the length of the sequence,\n",
    "\n",
    "### Why is the algorithm fast?\n",
    "The key is that at each level of the recursive call the length of the array shrinks, on average, by a constant factor. This has two effects:\n",
    "1. The number of levels is $O(\\log n)$ \n",
    "2. The amound of work that needs to be done at each level is smaller by a factor from the work at the previous level.\n",
    "\n",
    "Combining these two facts, we get that the expected run time of the algorithm is $O(n)$. Considerably faster than the method based on sorting. \n",
    "\n",
    "For a more detailed and rigorous analysis, see the class notes."
   ]
  },
  {
   "cell_type": "markdown",
   "id": "34bb9ed1",
   "metadata": {},
   "source": [
    "## Quicksort"
   ]
  },
  {
   "cell_type": "code",
   "execution_count": 6,
   "id": "291114b6",
   "metadata": {},
   "outputs": [],
   "source": [
    "def quicksort(a,level,debug=False):\n",
    "    l=len(a) \n",
    "    global _sum\n",
    "    _sum+=l\n",
    "    if l<2:\n",
    "        return a\n",
    "    if debug:\n",
    "        print('level=',level,'length=',l, end=', ')\n",
    "\n",
    "    r=randint(l)\n",
    "    pivot=a[r]\n",
    "    smaller=[]\n",
    "    equal=[]\n",
    "    larger=[]\n",
    "    for i in range(l):\n",
    "        x=a[i]\n",
    "        if x<pivot:\n",
    "            smaller.append(x)\n",
    "        elif x>pivot:\n",
    "            larger.append(x)\n",
    "        else:\n",
    "            equal.append(x)\n",
    "            \n",
    "    if debug:\n",
    "        print('smaller=',len(smaller),\\\n",
    "              'equal=',len(equal),'larger=',len(larger))\n",
    "\n",
    "    return quicksort(smaller,level+1,debug=debug)+equal+quicksort(larger,level+1,debug=debug)"
   ]
  },
  {
   "cell_type": "code",
   "execution_count": 7,
   "id": "de39e671",
   "metadata": {},
   "outputs": [
    {
     "name": "stdout",
     "output_type": "stream",
     "text": [
      "100,200,400,800,1600,3200,6400,12800,25600,51200,102400,"
     ]
    }
   ],
   "source": [
    "global _sum  # variable for computing total run time - sum of lengths\n",
    "results=[]\n",
    "for n in [100*2**j for j in list(range(0,11))]:#size of array\n",
    "    # Find the percentile using our randomized algorithm\n",
    "    _stat=[]\n",
    "    for i in range(100): # number of identical runs\n",
    "        _sum=0\n",
    "        a=list(permutation(n)) # generte a random array\n",
    "        s=quicksort(a,0,debug=False)\n",
    "        _stat.append(_sum)\n",
    "    _stat[:5]\n",
    "    results.append((n,mean(_stat),std(_stat)))\n",
    "    print(n,end=',')"
   ]
  },
  {
   "cell_type": "code",
   "execution_count": 8,
   "id": "12327118",
   "metadata": {},
   "outputs": [
    {
     "data": {
      "text/plain": [
       "[(100, 742.16, 55.68908690219297),\n",
       " (200, 1792.75, 120.95539467092817),\n",
       " (400, 4116.84, 244.3812071334455),\n",
       " (800, 9107.49, 437.0288890908701),\n",
       " (1600, 20725.41, 1065.0694352482376),\n",
       " (3200, 46016.94, 2178.1983693869574),\n",
       " (6400, 99948.36, 3951.378171018309),\n",
       " (12800, 217425.42, 7737.862051212855),\n",
       " (25600, 472033.45, 15188.692286286532),\n",
       " (51200, 1013996.22, 32944.26890327967),\n",
       " (102400, 2169563.69, 67250.74959429003)]"
      ]
     },
     "execution_count": 8,
     "metadata": {},
     "output_type": "execute_result"
    }
   ],
   "source": [
    "results"
   ]
  },
  {
   "cell_type": "markdown",
   "id": "1c1e9967",
   "metadata": {},
   "source": [
    "### Empirical analysis of quicktime run time"
   ]
  },
  {
   "cell_type": "code",
   "execution_count": 9,
   "id": "33fef4fe",
   "metadata": {},
   "outputs": [
    {
     "data": {
      "text/plain": [
       "Text(0.5, 1.0, 'runtime vs. n')"
      ]
     },
     "execution_count": 9,
     "metadata": {},
     "output_type": "execute_result"
    },
    {
     "data": {
      "image/png": "[encoded data removed]",
      "text/plain": [
       "<Figure size 432x288 with 1 Axes>"
      ]
     },
     "metadata": {
      "needs_background": "light"
     },
     "output_type": "display_data"
    }
   ],
   "source": [
    "_n=np.array([x[0] for x in results])\n",
    "_mean=np.array([x[1] for x in results])\n",
    "_std=np.array([x[2] for x in results])\n",
    "plot(_n,_mean,label='mean')\n",
    "plot(_n,_mean+_std,label='mean+std')\n",
    "plot(_n,_mean-_std,label='mean-std')\n",
    "grid()\n",
    "legend()\n",
    "title('runtime vs. n')"
   ]
  },
  {
   "cell_type": "code",
   "execution_count": 10,
   "id": "a44626e5",
   "metadata": {},
   "outputs": [
    {
     "data": {
      "image/png": "[encoded data removed]",
      "text/plain": [
       "<Figure size 432x288 with 1 Axes>"
      ]
     },
     "metadata": {
      "needs_background": "light"
     },
     "output_type": "display_data"
    }
   ],
   "source": [
    "plot(_n,_mean/_n,label='mean')\n",
    "plot(_n,(_mean+_std)/_n,label='mean+std')\n",
    "plot(_n,(_mean-_std)/_n,label='mean-std')\n",
    "grid()\n",
    "legend()\n",
    "title('runtime/n vs n');"
   ]
  },
  {
   "cell_type": "code",
   "execution_count": 11,
   "id": "7ce68e51",
   "metadata": {
    "scrolled": true
   },
   "outputs": [
    {
     "data": {
      "image/png": "[encoded data removed]",
      "text/plain": [
       "<Figure size 432x288 with 1 Axes>"
      ]
     },
     "metadata": {
      "needs_background": "light"
     },
     "output_type": "display_data"
    }
   ],
   "source": [
    "plot(_n,_mean/(_n*log(_n)),label='mean')\n",
    "plot(_n,(_mean+_std)/(_n*log(_n)),label='mean+std')\n",
    "plot(_n,(_mean-_std)/(_n*log(_n)),label='mean-std')\n",
    "grid()\n",
    "legend()\n",
    "title('runtime/(n ln n) vs n');"
   ]
  },
  {
   "cell_type": "markdown",
   "id": "dd4ef4d9",
   "metadata": {},
   "source": [
    "## Conclusions from empirical analysis\n",
    "\n",
    "We see that, for the range $1 \\leq n \\leq 100000$ the run time is $T(n) \\approx c n \\ln n$\n",
    "where $c \\in [1.5,2]$\n",
    "\n",
    "### Homework\n",
    "Perform a similar analysis for the median finding algorithm, includng finding the coefficient $c$."
   ]
  },
  {
   "cell_type": "code",
   "execution_count": null,
   "id": "dbf1e217",
   "metadata": {},
   "outputs": [],
   "source": []
  }
 ],
 "metadata": {
  "kernelspec": {
   "display_name": "Python 3 (ipykernel)",
   "language": "python",
   "name": "python3"
  },
  "language_info": {
   "codemirror_mode": {
    "name": "ipython",
    "version": 3
   },
   "file_extension": ".py",
   "mimetype": "text/x-python",
   "name": "python",
   "nbconvert_exporter": "python",
   "pygments_lexer": "ipython3",
   "version": "3.9.6"
  }
 },
 "nbformat": 4,
 "nbformat_minor": 5
}
