{
 "cells": [
  {
   "cell_type": "markdown",
   "id": "df753db2",
   "metadata": {},
   "source": [
    "### Finding Percentiles\n",
    "\n",
    "We are given an array of $n$ numbers and we want to find the $p$th percential ($0\\leq p \\leq 1$).\n",
    "\n",
    "The most direct way is to sort the array and then read the element at location `int(np)`\n",
    "\n",
    "However sorting requires time $O(n \\log n)$ in the worst case. We would like to do better.\n",
    "\n",
    "Here we show a randomized algorithm whose expected running time, for any sequence, is $O(n)$"
   ]
  },
  {
   "cell_type": "code",
   "execution_count": 1,
   "id": "168db11f",
   "metadata": {},
   "outputs": [
    {
     "name": "stdout",
     "output_type": "stream",
     "text": [
      "Populating the interactive namespace from numpy and matplotlib\n"
     ]
    }
   ],
   "source": [
    "%pylab inline"
   ]
  },
  {
   "cell_type": "code",
   "execution_count": 2,
   "id": "ed183861",
   "metadata": {},
   "outputs": [],
   "source": [
    "def percentile(a,i,debug=False):\n",
    "    l=a.shape[0] \n",
    "    global _sum\n",
    "    _sum+=l\n",
    "    if debug:\n",
    "        print('length=',l, end=', ')\n",
    "    if l==1:\n",
    "        return a[0]\n",
    "    r=randint(l)\n",
    "    pivot=a[r]\n",
    "    smaller=a[a<pivot]\n",
    "    equal=a[a==pivot]\n",
    "    larger=a[a>pivot]\n",
    "    if debug:\n",
    "        print('index=',i,'pivot=',pivot,'smaller=',smaller.shape[0],\\\n",
    "              'equal=',equal.shape[0],'larger=',larger.shape[0],end=' ')\n",
    "\n",
    "    if len(smaller)>i:\n",
    "        if debug:\n",
    "            print('choose smaller')\n",
    "        return percentile(smaller,i,debug=debug)\n",
    "    elif len(smaller)+len(equal)>i:\n",
    "        if debug:\n",
    "            print('choose equal')\n",
    "        return equal[0]\n",
    "    else:\n",
    "        if debug:\n",
    "            print('choose larger')\n",
    "        return percentile(larger,i-len(smaller)-len(equal),debug=debug)"
   ]
  },
  {
   "cell_type": "code",
   "execution_count": 3,
   "id": "4d58c173",
   "metadata": {},
   "outputs": [
    {
     "data": {
      "text/plain": [
       "array([ 0, 42, 33, 17,  4, 18, 39, 44, 41,  0, 11, 31, 12, 39, 12,  6,  9,\n",
       "       11,  2, 30, 17, 17, 40, 42,  3, 46, 26,  8, 23,  0, 39, 13, 49, 21,\n",
       "       16, 47, 25,  4, 42, 43, 19, 28, 23, 24, 45, 16, 22, 18, 43, 14,  2,\n",
       "       12, 25, 39, 12, 32,  3, 36, 15,  5, 20, 10, 31,  4, 33, 36, 27, 13,\n",
       "       24,  8,  2, 18, 21,  7, 25, 35, 27, 28, 40, 37, 27, 23, 40,  2, 11,\n",
       "        2, 42, 33, 38, 20, 13, 35, 18,  3, 32, 18,  6, 10, 31, 36])"
      ]
     },
     "execution_count": 3,
     "metadata": {},
     "output_type": "execute_result"
    }
   ],
   "source": [
    "n=100   #size of array\n",
    "a=randint(int(n/2),size=n) # generte a random arra\n",
    "a"
   ]
  },
  {
   "cell_type": "code",
   "execution_count": 4,
   "id": "4236b035",
   "metadata": {},
   "outputs": [
    {
     "name": "stdout",
     "output_type": "stream",
     "text": [
      "answer= 6\n"
     ]
    }
   ],
   "source": [
    "p=0.15   # Define the percentile\n",
    "i=int(p*n)\n",
    "\n",
    "b=sort(a) # find the percentile by sorting\n",
    "print('answer=',b[i])"
   ]
  },
  {
   "cell_type": "code",
   "execution_count": 5,
   "id": "7881305f",
   "metadata": {},
   "outputs": [
    {
     "name": "stdout",
     "output_type": "stream",
     "text": [
      "length= 100, index= 15 pivot= 2 smaller= 3 equal= 5 larger= 92 choose larger\n",
      "length= 92, index= 7 pivot= 4 smaller= 3 equal= 3 larger= 86 choose larger\n",
      "length= 86, index= 1 pivot= 31 smaller= 52 equal= 3 larger= 31 choose smaller\n",
      "length= 52, index= 1 pivot= 10 smaller= 7 equal= 2 larger= 43 choose smaller\n",
      "length= 7, index= 1 pivot= 8 smaller= 4 equal= 2 larger= 1 choose smaller\n",
      "length= 4, index= 1 pivot= 5 smaller= 0 equal= 1 larger= 3 choose larger\n",
      "length= 3, index= 0 pivot= 6 smaller= 0 equal= 2 larger= 1 choose equal\n",
      "answer= 6 total steps= 344 bound on expectation= 800\n"
     ]
    }
   ],
   "source": [
    "# Find the percentile using our randomized algorithm\n",
    "global _sum  # variable for computing total run time - sum of lengths\n",
    "_sum=0\n",
    "P=percentile(a,i,debug=True)\n",
    "print('answer=',P,'total steps=',_sum, 'bound on expectation=',8*n)"
   ]
  },
  {
   "cell_type": "markdown",
   "id": "5a186b18",
   "metadata": {},
   "source": [
    "### Note\n",
    "The length of  the array shrinks rapidly. The actual amount varies randomly, but the number of iterations is about $(\\log n)$ where $n$ is the length of the sequence,\n",
    "\n",
    "### Why is the algorithm fast?\n",
    "The key is that at each level of the recursive call the length of the array shrinks, on average, by a constant factor. This has two effects:\n",
    "1. The number of levels is $O(\\log n)$ \n",
    "2. The amound of work that needs to be done at each level is smaller by a factor from the work at the previous level.\n",
    "\n",
    "Combining these two facts, we get that the expected run time of the algorithm is $O(n)$. Considerably faster than the method based on sorting. \n",
    "\n",
    "For a more detailed and rigorous analysis, see the class notes."
   ]
  },
  {
   "cell_type": "markdown",
   "id": "34bb9ed1",
   "metadata": {},
   "source": [
    "## Quicksort"
   ]
  },
  {
   "cell_type": "code",
   "execution_count": 6,
   "id": "291114b6",
   "metadata": {},
   "outputs": [],
   "source": [
    "def quicksort(a,level,debug=False):\n",
    "    l=len(a) \n",
    "    global _sum\n",
    "    _sum+=l\n",
    "    if l<2:\n",
    "        return a\n",
    "    if debug:\n",
    "        print('level=',level,'length=',l, end=', ')\n",
    "\n",
    "    r=randint(l)\n",
    "    pivot=a[r]\n",
    "    smaller=[]\n",
    "    equal=[]\n",
    "    larger=[]\n",
    "    for i in range(l):\n",
    "        x=a[i]\n",
    "        if x<pivot:\n",
    "            smaller.append(x)\n",
    "        elif x>pivot:\n",
    "            larger.append(x)\n",
    "        else:\n",
    "            equal.append(x)\n",
    "            \n",
    "    if debug:\n",
    "        print('smaller=',len(smaller),\\\n",
    "              'equal=',len(equal),'larger=',len(larger))\n",
    "\n",
    "    return quicksort(smaller,level+1,debug=debug)+equal+quicksort(larger,level+1,debug=debug)"
   ]
  },
  {
   "cell_type": "code",
   "execution_count": null,
   "id": "de39e671",
   "metadata": {},
   "outputs": [
    {
     "name": "stdout",
     "output_type": "stream",
     "text": [
      "100,200,400,800,1600,3200,6400,12800,25600,51200,"
     ]
    }
   ],
   "source": [
    "global _sum  # variable for computing total run time - sum of lengths\n",
    "results=[]\n",
    "for n in [100*2**j for j in list(range(0,11))]:#size of array\n",
    "    # Find the percentile using our randomized algorithm\n",
    "    _stat=[]\n",
    "    for i in range(100): # number of identical runs\n",
    "        _sum=0\n",
    "        a=list(permutation(n)) # generte a random array\n",
    "        s=quicksort(a,0,debug=False)\n",
    "        _stat.append(_sum)\n",
    "    _stat[:5]\n",
    "    results.append((n,mean(_stat),std(_stat)))\n",
    "    print(n,end=',')"
   ]
  },
  {
   "cell_type": "code",
   "execution_count": null,
   "id": "12327118",
   "metadata": {},
   "outputs": [],
   "source": [
    "results"
   ]
  },
  {
   "cell_type": "markdown",
   "id": "1c1e9967",
   "metadata": {},
   "source": [
    "### Empirical analysis of quicktime run time"
   ]
  },
  {
   "cell_type": "code",
   "execution_count": null,
   "id": "33fef4fe",
   "metadata": {},
   "outputs": [],
   "source": [
    "_n=np.array([x[0] for x in results])\n",
    "_mean=np.array([x[1] for x in results])\n",
    "_std=np.array([x[2] for x in results])\n",
    "plot(_n,_mean,label='mean')\n",
    "plot(_n,_mean+_std,label='mean+std')\n",
    "plot(_n,_mean-_std,label='mean-std')\n",
    "grid()\n",
    "legend()\n",
    "title('runtime vs. n')"
   ]
  },
  {
   "cell_type": "code",
   "execution_count": null,
   "id": "a44626e5",
   "metadata": {},
   "outputs": [],
   "source": [
    "plot(_n,_mean/_n,label='mean')\n",
    "plot(_n,(_mean+_std)/_n,label='mean+std')\n",
    "plot(_n,(_mean-_std)/_n,label='mean-std')\n",
    "grid()\n",
    "legend()\n",
    "title('runtime/n vs n');"
   ]
  },
  {
   "cell_type": "code",
   "execution_count": null,
   "id": "7ce68e51",
   "metadata": {
    "scrolled": true
   },
   "outputs": [],
   "source": [
    "plot(_n,_mean/(_n*log(_n)),label='mean')\n",
    "plot(_n,(_mean+_std)/(_n*log(_n)),label='mean+std')\n",
    "plot(_n,(_mean-_std)/(_n*log(_n)),label='mean-std')\n",
    "grid()\n",
    "legend()\n",
    "title('runtime/(n ln n) vs n');"
   ]
  },
  {
   "cell_type": "markdown",
   "id": "dd4ef4d9",
   "metadata": {},
   "source": [
    "## Conclusions from empirical analysis\n",
    "\n",
    "We see that, for the range $1 \\leq n \\leq 100000$ the run time is $T(n) \\approx c n \\ln n$\n",
    "where $c \\in [1.5,2]$\n",
    "\n",
    "### Homework\n",
    "Perform a similar analysis for the median finding algorithm, includng finding the coefficient $c$."
   ]
  },
  {
   "cell_type": "code",
   "execution_count": null,
   "id": "dbf1e217",
   "metadata": {},
   "outputs": [],
   "source": []
  }
 ],
 "metadata": {
  "kernelspec": {
   "display_name": "Python 3 (ipykernel)",
   "language": "python",
   "name": "python3"
  },
  "language_info": {
   "codemirror_mode": {
    "name": "ipython",
    "version": 3
   },
   "file_extension": ".py",
   "mimetype": "text/x-python",
   "name": "python",
   "nbconvert_exporter": "python",
   "pygments_lexer": "ipython3",
   "version": "3.9.6"
  }
 },
 "nbformat": 4,
 "nbformat_minor": 5
}
